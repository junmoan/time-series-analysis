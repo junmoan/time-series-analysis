{
  "nbformat": 4,
  "nbformat_minor": 0,
  "metadata": {
    "colab": {
      "name": "TimeseriesGenerator_Example.ipynb",
      "provenance": [],
      "collapsed_sections": []
    },
    "kernelspec": {
      "name": "python3",
      "display_name": "Python 3"
    }
  },
  "cells": [
    {
      "cell_type": "markdown",
      "metadata": {
        "id": "fG7MOv5o4nVG"
      },
      "source": [
        "##Univariate One Step Problem"
      ]
    },
    {
      "cell_type": "code",
      "metadata": {
        "colab": {
          "base_uri": "https://localhost:8080/"
        },
        "id": "8jJIdIwbkYKU",
        "outputId": "378438bb-4ca6-409f-9d42-6668605f2222"
      },
      "source": [
        "# univariate one step problem\r\n",
        "from numpy import array\r\n",
        "from keras.preprocessing.sequence import TimeseriesGenerator\r\n",
        "\r\n",
        "# define dataset\r\n",
        "series = array([1, 2, 3, 4, 5, 6, 7, 8, 9, 10])\r\n",
        "\r\n",
        "# define generator\r\n",
        "n_input = 2\r\n",
        "generator = TimeseriesGenerator(series, series, length=n_input, batch_size=1)\r\n",
        "\r\n",
        "# number of samples\r\n",
        "print('Samples: %d' % len(generator))\r\n",
        "\r\n",
        "# print each sample\r\n",
        "for i in range(len(generator)):\r\n",
        "\tx, y = generator[i]\r\n",
        "\tprint('%s => %s' % (x, y))"
      ],
      "execution_count": 62,
      "outputs": [
        {
          "output_type": "stream",
          "text": [
            "Samples: 8\n",
            "[[1 2]] => [3]\n",
            "[[2 3]] => [4]\n",
            "[[3 4]] => [5]\n",
            "[[4 5]] => [6]\n",
            "[[5 6]] => [7]\n",
            "[[6 7]] => [8]\n",
            "[[7 8]] => [9]\n",
            "[[8 9]] => [10]\n"
          ],
          "name": "stdout"
        }
      ]
    },
    {
      "cell_type": "code",
      "metadata": {
        "colab": {
          "base_uri": "https://localhost:8080/"
        },
        "id": "YiUsBaU--0yx",
        "outputId": "8d59dd17-3049-4bc8-95ca-1a3673ec9c98"
      },
      "source": [
        "from keras.layers import LSTM\r\n",
        "from keras.models import Sequential\r\n",
        "from keras.layers import Dense\r\n",
        "\r\n",
        "# define dataset\r\n",
        "series = array([1, 2, 3, 4, 5, 6, 7, 8, 9, 10])\r\n",
        "\r\n",
        "# reshape to [10, 1]\r\n",
        "n_features = 1\r\n",
        "series = series.reshape((len(series), n_features))\r\n",
        "\r\n",
        "# define generator\r\n",
        "n_input = 2\r\n",
        "generator = TimeseriesGenerator(series, series, length=n_input, batch_size=8)\r\n",
        "\r\n",
        "# define model\r\n",
        "model = Sequential()\r\n",
        "model.add(LSTM(100, activation='relu', input_shape=(n_input, n_features)))\r\n",
        "model.add(Dense(1))\r\n",
        "model.compile(optimizer='adam', loss='mse')\r\n",
        "\r\n",
        "# fit model\r\n",
        "model.fit_generator(generator, steps_per_epoch=1, epochs=500, verbose=0)\r\n",
        "\r\n",
        "# make a one step prediction out of sample\r\n",
        "x_input = array([9, 10]).reshape((1, n_input, n_features))\r\n",
        "yhat = model.predict(x_input, verbose=0)\r\n",
        "print('Predicted:', yhat)"
      ],
      "execution_count": 63,
      "outputs": [
        {
          "output_type": "stream",
          "text": [
            "/usr/local/lib/python3.6/dist-packages/tensorflow/python/keras/engine/training.py:1844: UserWarning: `Model.fit_generator` is deprecated and will be removed in a future version. Please use `Model.fit`, which supports generators.\n",
            "  warnings.warn('`Model.fit_generator` is deprecated and '\n"
          ],
          "name": "stderr"
        },
        {
          "output_type": "stream",
          "text": [
            "WARNING:tensorflow:5 out of the last 5 calls to <function Model.make_predict_function.<locals>.predict_function at 0x7f1cf3201488> triggered tf.function retracing. Tracing is expensive and the excessive number of tracings could be due to (1) creating @tf.function repeatedly in a loop, (2) passing tensors with different shapes, (3) passing Python objects instead of tensors. For (1), please define your @tf.function outside of the loop. For (2), @tf.function has experimental_relax_shapes=True option that relaxes argument shapes that can avoid unnecessary retracing. For (3), please refer to https://www.tensorflow.org/guide/function#controlling_retracing and https://www.tensorflow.org/api_docs/python/tf/function for  more details.\n",
            "Predicted: [[10.877463]]\n"
          ],
          "name": "stdout"
        }
      ]
    },
    {
      "cell_type": "code",
      "metadata": {
        "colab": {
          "base_uri": "https://localhost:8080/"
        },
        "id": "B69Ffz7Blyff",
        "outputId": "be22172d-9b81-4a70-bc39-0f3d9f8930dd"
      },
      "source": [
        "# define generator\r\n",
        "n_input = 3\r\n",
        "generator = TimeseriesGenerator(series, series, length=n_input, batch_size=1)\r\n",
        "\r\n",
        "# number of samples\r\n",
        "print('Samples: %d' % len(generator))\r\n",
        "\r\n",
        "# print each sample\r\n",
        "for i in range(len(generator)):\r\n",
        "\tx, y = generator[i]\r\n",
        "\tprint('%s => %s' % (x, y))"
      ],
      "execution_count": 64,
      "outputs": [
        {
          "output_type": "stream",
          "text": [
            "Samples: 7\n",
            "[[[1]\n",
            "  [2]\n",
            "  [3]]] => [[4]]\n",
            "[[[2]\n",
            "  [3]\n",
            "  [4]]] => [[5]]\n",
            "[[[3]\n",
            "  [4]\n",
            "  [5]]] => [[6]]\n",
            "[[[4]\n",
            "  [5]\n",
            "  [6]]] => [[7]]\n",
            "[[[5]\n",
            "  [6]\n",
            "  [7]]] => [[8]]\n",
            "[[[6]\n",
            "  [7]\n",
            "  [8]]] => [[9]]\n",
            "[[[7]\n",
            "  [8]\n",
            "  [9]]] => [[10]]\n"
          ],
          "name": "stdout"
        }
      ]
    },
    {
      "cell_type": "code",
      "metadata": {
        "colab": {
          "base_uri": "https://localhost:8080/"
        },
        "id": "eJhO_ZoAmu5I",
        "outputId": "dba2e3f9-6269-432d-c0d7-c59fef601e96"
      },
      "source": [
        "# define generator\r\n",
        "n_input = 5\r\n",
        "generator = TimeseriesGenerator(series, series, length=n_input, batch_size=1)\r\n",
        "\r\n",
        "# number of samples\r\n",
        "print('Samples: %d' % len(generator))\r\n",
        "\r\n",
        "# print each sample\r\n",
        "for i in range(len(generator)):\r\n",
        "\tx, y = generator[i]\r\n",
        "\tprint('%s => %s' % (x, y))"
      ],
      "execution_count": 65,
      "outputs": [
        {
          "output_type": "stream",
          "text": [
            "Samples: 5\n",
            "[[[1]\n",
            "  [2]\n",
            "  [3]\n",
            "  [4]\n",
            "  [5]]] => [[6]]\n",
            "[[[2]\n",
            "  [3]\n",
            "  [4]\n",
            "  [5]\n",
            "  [6]]] => [[7]]\n",
            "[[[3]\n",
            "  [4]\n",
            "  [5]\n",
            "  [6]\n",
            "  [7]]] => [[8]]\n",
            "[[[4]\n",
            "  [5]\n",
            "  [6]\n",
            "  [7]\n",
            "  [8]]] => [[9]]\n",
            "[[[5]\n",
            "  [6]\n",
            "  [7]\n",
            "  [8]\n",
            "  [9]]] => [[10]]\n"
          ],
          "name": "stdout"
        }
      ]
    },
    {
      "cell_type": "markdown",
      "metadata": {
        "id": "GmDqIFXQ4_s7"
      },
      "source": [
        "##Multivariate One Step Problem"
      ]
    },
    {
      "cell_type": "code",
      "metadata": {
        "colab": {
          "base_uri": "https://localhost:8080/"
        },
        "id": "_gXngpTPksGU",
        "outputId": "939076cc-4c4b-4ab4-eaf9-12bdb2a82f9c"
      },
      "source": [
        "# multivariate one step problem\r\n",
        "from numpy import hstack\r\n",
        "\r\n",
        "# define dataset\r\n",
        "in_seq1 = array([10, 20, 30, 40, 50, 60, 70, 80, 90, 100])\r\n",
        "in_seq2 = array([15, 25, 35, 45, 55, 65, 75, 85, 95, 105])\r\n",
        "\r\n",
        "# reshape series\r\n",
        "in_seq1 = in_seq1.reshape((len(in_seq1), 1))\r\n",
        "in_seq2 = in_seq2.reshape((len(in_seq2), 1))\r\n",
        "\r\n",
        "# horizontally stack columns\r\n",
        "dataset = hstack((in_seq1, in_seq2))\r\n",
        "print(dataset)\r\n",
        "\r\n",
        "# define generator\r\n",
        "n_input = 2\r\n",
        "generator = TimeseriesGenerator(dataset, dataset, length=n_input, batch_size=1)\r\n",
        "\r\n",
        "# number of samples\r\n",
        "print('Samples: %d' % len(generator))\r\n",
        "\r\n",
        "# print each sample\r\n",
        "for i in range(len(generator)):\r\n",
        "\tx, y = generator[i]\r\n",
        "\tprint('%s => %s' % (x, y))"
      ],
      "execution_count": 66,
      "outputs": [
        {
          "output_type": "stream",
          "text": [
            "[[ 10  15]\n",
            " [ 20  25]\n",
            " [ 30  35]\n",
            " [ 40  45]\n",
            " [ 50  55]\n",
            " [ 60  65]\n",
            " [ 70  75]\n",
            " [ 80  85]\n",
            " [ 90  95]\n",
            " [100 105]]\n",
            "Samples: 8\n",
            "[[[10 15]\n",
            "  [20 25]]] => [[30 35]]\n",
            "[[[20 25]\n",
            "  [30 35]]] => [[40 45]]\n",
            "[[[30 35]\n",
            "  [40 45]]] => [[50 55]]\n",
            "[[[40 45]\n",
            "  [50 55]]] => [[60 65]]\n",
            "[[[50 55]\n",
            "  [60 65]]] => [[70 75]]\n",
            "[[[60 65]\n",
            "  [70 75]]] => [[80 85]]\n",
            "[[[70 75]\n",
            "  [80 85]]] => [[90 95]]\n",
            "[[[80 85]\n",
            "  [90 95]]] => [[100 105]]\n"
          ],
          "name": "stdout"
        }
      ]
    },
    {
      "cell_type": "code",
      "metadata": {
        "colab": {
          "base_uri": "https://localhost:8080/"
        },
        "id": "8EHoEBgoCimp",
        "outputId": "3f943c1d-ce4f-4091-f1a9-95410d96b350"
      },
      "source": [
        "# define dataset\r\n",
        "in_seq1 = array([10, 20, 30, 40, 50, 60, 70, 80, 90, 100])\r\n",
        "in_seq2 = array([15, 25, 35, 45, 55, 65, 75, 85, 95, 105])\r\n",
        "\r\n",
        "# reshape series\r\n",
        "in_seq1 = in_seq1.reshape((len(in_seq1), 1))\r\n",
        "in_seq2 = in_seq2.reshape((len(in_seq2), 1))\r\n",
        "\r\n",
        "# horizontally stack columns\r\n",
        "dataset = hstack((in_seq1, in_seq2))\r\n",
        "\r\n",
        "# define generator\r\n",
        "n_features = dataset.shape[1]\r\n",
        "n_input = 2\r\n",
        "generator = TimeseriesGenerator(dataset, dataset, length=n_input, batch_size=8)\r\n",
        "\r\n",
        "# define model\r\n",
        "model = Sequential()\r\n",
        "model.add(LSTM(100, activation='relu', input_shape=(n_input, n_features)))\r\n",
        "model.add(Dense(2))\r\n",
        "model.compile(optimizer='adam', loss='mse')\r\n",
        "\r\n",
        "# fit model\r\n",
        "model.fit_generator(generator, steps_per_epoch=1, epochs=500, verbose=0)\r\n",
        "\r\n",
        "# make a one step prediction out of sample\r\n",
        "x_input = array([[90, 95], [100, 105]]).reshape((1, n_input, n_features))\r\n",
        "yhat = model.predict(x_input, verbose=0)\r\n",
        "print('Predicted:', yhat)"
      ],
      "execution_count": 67,
      "outputs": [
        {
          "output_type": "stream",
          "text": [
            "/usr/local/lib/python3.6/dist-packages/tensorflow/python/keras/engine/training.py:1844: UserWarning: `Model.fit_generator` is deprecated and will be removed in a future version. Please use `Model.fit`, which supports generators.\n",
            "  warnings.warn('`Model.fit_generator` is deprecated and '\n"
          ],
          "name": "stderr"
        },
        {
          "output_type": "stream",
          "text": [
            "WARNING:tensorflow:6 out of the last 6 calls to <function Model.make_predict_function.<locals>.predict_function at 0x7f1cf588f2f0> triggered tf.function retracing. Tracing is expensive and the excessive number of tracings could be due to (1) creating @tf.function repeatedly in a loop, (2) passing tensors with different shapes, (3) passing Python objects instead of tensors. For (1), please define your @tf.function outside of the loop. For (2), @tf.function has experimental_relax_shapes=True option that relaxes argument shapes that can avoid unnecessary retracing. For (3), please refer to https://www.tensorflow.org/guide/function#controlling_retracing and https://www.tensorflow.org/api_docs/python/tf/function for  more details.\n",
            "Predicted: [[109.9741  115.24936]]\n"
          ],
          "name": "stdout"
        }
      ]
    },
    {
      "cell_type": "code",
      "metadata": {
        "colab": {
          "base_uri": "https://localhost:8080/"
        },
        "id": "FJVyX83dmlFo",
        "outputId": "f8558bdc-10fb-4dc8-dc0a-620bb3167075"
      },
      "source": [
        "# define generator\r\n",
        "n_input = 3\r\n",
        "generator = TimeseriesGenerator(dataset, dataset, length=n_input, batch_size=1)\r\n",
        "\r\n",
        "# number of samples\r\n",
        "print('Samples: %d' % len(generator))\r\n",
        "\r\n",
        "# print each sample\r\n",
        "for i in range(len(generator)):\r\n",
        "\tx, y = generator[i]\r\n",
        "\tprint('%s => %s' % (x, y))"
      ],
      "execution_count": 68,
      "outputs": [
        {
          "output_type": "stream",
          "text": [
            "Samples: 7\n",
            "[[[10 15]\n",
            "  [20 25]\n",
            "  [30 35]]] => [[40 45]]\n",
            "[[[20 25]\n",
            "  [30 35]\n",
            "  [40 45]]] => [[50 55]]\n",
            "[[[30 35]\n",
            "  [40 45]\n",
            "  [50 55]]] => [[60 65]]\n",
            "[[[40 45]\n",
            "  [50 55]\n",
            "  [60 65]]] => [[70 75]]\n",
            "[[[50 55]\n",
            "  [60 65]\n",
            "  [70 75]]] => [[80 85]]\n",
            "[[[60 65]\n",
            "  [70 75]\n",
            "  [80 85]]] => [[90 95]]\n",
            "[[[70 75]\n",
            "  [80 85]\n",
            "  [90 95]]] => [[100 105]]\n"
          ],
          "name": "stdout"
        }
      ]
    },
    {
      "cell_type": "code",
      "metadata": {
        "colab": {
          "base_uri": "https://localhost:8080/"
        },
        "id": "W2LeZAzMmnZu",
        "outputId": "f2a4e26b-3b82-4bc2-c3db-339d592a49b8"
      },
      "source": [
        "# define generator\r\n",
        "n_input = 5\r\n",
        "generator = TimeseriesGenerator(dataset, dataset, length=n_input, batch_size=1)\r\n",
        "\r\n",
        "# number of samples\r\n",
        "print('Samples: %d' % len(generator))\r\n",
        "\r\n",
        "# print each sample\r\n",
        "for i in range(len(generator)):\r\n",
        "\tx, y = generator[i]\r\n",
        "\tprint('%s => %s' % (x, y))"
      ],
      "execution_count": 69,
      "outputs": [
        {
          "output_type": "stream",
          "text": [
            "Samples: 5\n",
            "[[[10 15]\n",
            "  [20 25]\n",
            "  [30 35]\n",
            "  [40 45]\n",
            "  [50 55]]] => [[60 65]]\n",
            "[[[20 25]\n",
            "  [30 35]\n",
            "  [40 45]\n",
            "  [50 55]\n",
            "  [60 65]]] => [[70 75]]\n",
            "[[[30 35]\n",
            "  [40 45]\n",
            "  [50 55]\n",
            "  [60 65]\n",
            "  [70 75]]] => [[80 85]]\n",
            "[[[40 45]\n",
            "  [50 55]\n",
            "  [60 65]\n",
            "  [70 75]\n",
            "  [80 85]]] => [[90 95]]\n",
            "[[[50 55]\n",
            "  [60 65]\n",
            "  [70 75]\n",
            "  [80 85]\n",
            "  [90 95]]] => [[100 105]]\n"
          ],
          "name": "stdout"
        }
      ]
    },
    {
      "cell_type": "markdown",
      "metadata": {
        "id": "MSi_osEK4xyX"
      },
      "source": [
        "##Multivariate One Step Problem"
      ]
    },
    {
      "cell_type": "code",
      "metadata": {
        "colab": {
          "base_uri": "https://localhost:8080/"
        },
        "id": "jteTXqkJmrtY",
        "outputId": "d937bfcc-304b-4200-d0c7-271a9952a1d4"
      },
      "source": [
        "# multivariate one step problem\r\n",
        "\r\n",
        "# define dataset\r\n",
        "in_seq1 = array([10, 20, 30, 40, 50, 60, 70, 80, 90, 100])\r\n",
        "in_seq2 = array([15, 25, 35, 45, 55, 65, 75, 85, 95, 105])\r\n",
        "out_seq = array([25, 45, 65, 85, 105, 125, 145, 165, 185, 205])\r\n",
        "\r\n",
        "# reshape series\r\n",
        "in_seq1 = in_seq1.reshape((len(in_seq1), 1))\r\n",
        "in_seq2 = in_seq2.reshape((len(in_seq2), 1))\r\n",
        "out_seq = out_seq.reshape((len(out_seq), 1))\r\n",
        "\r\n",
        "# horizontally stack columns\r\n",
        "dataset = hstack((in_seq1, in_seq2))\r\n",
        "print(dataset)\r\n",
        "\r\n",
        "# define generator\r\n",
        "n_input = 1\r\n",
        "generator = TimeseriesGenerator(dataset, out_seq, length=n_input, batch_size=1)\r\n",
        "\r\n",
        "# print each sample\r\n",
        "for i in range(len(generator)):\r\n",
        "\tx, y = generator[i]\r\n",
        "\tprint('%s => %s' % (x, y))"
      ],
      "execution_count": 70,
      "outputs": [
        {
          "output_type": "stream",
          "text": [
            "[[ 10  15]\n",
            " [ 20  25]\n",
            " [ 30  35]\n",
            " [ 40  45]\n",
            " [ 50  55]\n",
            " [ 60  65]\n",
            " [ 70  75]\n",
            " [ 80  85]\n",
            " [ 90  95]\n",
            " [100 105]]\n",
            "[[[10 15]]] => [[45]]\n",
            "[[[20 25]]] => [[65]]\n",
            "[[[30 35]]] => [[85]]\n",
            "[[[40 45]]] => [[105]]\n",
            "[[[50 55]]] => [[125]]\n",
            "[[[60 65]]] => [[145]]\n",
            "[[[70 75]]] => [[165]]\n",
            "[[[80 85]]] => [[185]]\n",
            "[[[90 95]]] => [[205]]\n"
          ],
          "name": "stdout"
        }
      ]
    },
    {
      "cell_type": "code",
      "metadata": {
        "colab": {
          "base_uri": "https://localhost:8080/"
        },
        "id": "CbGnssG0nH_Z",
        "outputId": "d1cc4dcf-61ff-415f-9a37-9e2746b1eb9f"
      },
      "source": [
        "# multivariate one step problem\r\n",
        "from numpy import insert\r\n",
        "\r\n",
        "# define dataset\r\n",
        "in_seq1 = array([10, 20, 30, 40, 50, 60, 70, 80, 90, 100])\r\n",
        "in_seq2 = array([15, 25, 35, 45, 55, 65, 75, 85, 95, 105])\r\n",
        "out_seq = array([25, 45, 65, 85, 105, 125, 145, 165, 185, 205])\r\n",
        "\r\n",
        "# reshape series\r\n",
        "in_seq1 = in_seq1.reshape((len(in_seq1), 1))\r\n",
        "in_seq2 = in_seq2.reshape((len(in_seq2), 1))\r\n",
        "out_seq = out_seq.reshape((len(out_seq), 1))\r\n",
        "\r\n",
        "# horizontally stack columns\r\n",
        "dataset = hstack((in_seq1, in_seq2))\r\n",
        "print(dataset)\r\n",
        "\r\n",
        "# shift the target sample by one step\r\n",
        "out_seq = insert(out_seq, 0, 0)\r\n",
        "\r\n",
        "# define generator\r\n",
        "n_input = 1\r\n",
        "generator = TimeseriesGenerator(dataset, out_seq[:-1], length=n_input, batch_size=1)\r\n",
        "\r\n",
        "# print each sample\r\n",
        "for i in range(len(generator)):\r\n",
        "\tx, y = generator[i]\r\n",
        "\tprint('%s => %s' % (x, y))"
      ],
      "execution_count": 71,
      "outputs": [
        {
          "output_type": "stream",
          "text": [
            "[[ 10  15]\n",
            " [ 20  25]\n",
            " [ 30  35]\n",
            " [ 40  45]\n",
            " [ 50  55]\n",
            " [ 60  65]\n",
            " [ 70  75]\n",
            " [ 80  85]\n",
            " [ 90  95]\n",
            " [100 105]]\n",
            "[[[10 15]]] => [25]\n",
            "[[[20 25]]] => [45]\n",
            "[[[30 35]]] => [65]\n",
            "[[[40 45]]] => [85]\n",
            "[[[50 55]]] => [105]\n",
            "[[[60 65]]] => [125]\n",
            "[[[70 75]]] => [145]\n",
            "[[[80 85]]] => [165]\n",
            "[[[90 95]]] => [185]\n"
          ],
          "name": "stdout"
        }
      ]
    },
    {
      "cell_type": "markdown",
      "metadata": {
        "id": "Qx_MjfUk5Mju"
      },
      "source": [
        "##Univariate Multi-Step Problem"
      ]
    },
    {
      "cell_type": "code",
      "metadata": {
        "colab": {
          "base_uri": "https://localhost:8080/"
        },
        "id": "TukHWsWrznV-",
        "outputId": "005d85c8-b535-4269-d87d-2ece7a66701c"
      },
      "source": [
        "# univariate multi-step problem\r\n",
        "\r\n",
        "# define dataset\r\n",
        "series = array([1, 2, 3, 4, 5, 6, 7, 8, 9, 10])\r\n",
        "target = array([[1,2],[2,3],[3,4],[4,5],[5,6],[6,7],[7,8],[8,9],[9,10],[10,11]])\r\n",
        "\r\n",
        "# define generator\r\n",
        "n_input = 2\r\n",
        "generator = TimeseriesGenerator(series, target, length=n_input, batch_size=1)\r\n",
        "\r\n",
        "# print each sample\r\n",
        "for i in range(len(generator)):\r\n",
        "\tx, y = generator[i]\r\n",
        "\tprint('%s => %s' % (x, y))"
      ],
      "execution_count": 72,
      "outputs": [
        {
          "output_type": "stream",
          "text": [
            "[[1 2]] => [[3 4]]\n",
            "[[2 3]] => [[4 5]]\n",
            "[[3 4]] => [[5 6]]\n",
            "[[4 5]] => [[6 7]]\n",
            "[[5 6]] => [[7 8]]\n",
            "[[6 7]] => [[8 9]]\n",
            "[[7 8]] => [[ 9 10]]\n",
            "[[8 9]] => [[10 11]]\n"
          ],
          "name": "stdout"
        }
      ]
    },
    {
      "cell_type": "code",
      "metadata": {
        "id": "eCegIZQ_4NQv"
      },
      "source": [
        ""
      ],
      "execution_count": 72,
      "outputs": []
    }
  ]
}